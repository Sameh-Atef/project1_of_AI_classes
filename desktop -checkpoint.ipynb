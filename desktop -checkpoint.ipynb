{
 "cells": [
  {
   "cell_type": "code",
   "execution_count": 3,
   "metadata": {},
   "outputs": [
    {
     "name": "stdout",
     "output_type": "stream",
     "text": [
      "Passed a = 2 and b = 3, returning a + b = 5\n"
     ]
    },
    {
     "data": {
      "text/plain": [
       "5"
      ]
     },
     "execution_count": 3,
     "metadata": {},
     "output_type": "execute_result"
    }
   ],
   "source": [
    "def add(a, b):\n",
    "    \"Return the sum of a and b\"\n",
    "    print(\"Passed a = %s and b = %s, returning a + b = %s\" % (a, b, a + b))\n",
    "    return a + b\n",
    "add(2,3)"
   ]
  },
  {
   "cell_type": "code",
   "execution_count": null,
   "metadata": {},
   "outputs": [],
   "source": [
    "\n"
   ]
  },
  {
   "cell_type": "code",
   "execution_count": null,
   "metadata": {},
   "outputs": [],
   "source": []
  },
  {
   "cell_type": "code",
   "execution_count": 57,
   "metadata": {},
   "outputs": [
    {
     "name": "stdout",
     "output_type": "stream",
     "text": [
      "Cost of [('apples', 2.0), ('pears', 3.0), ('limes', 4.0)] is 12.25\n"
     ]
    }
   ],
   "source": [
    "fruitPrices = {'apples':2.00, 'pears': 1.75,\n",
    "              'limes':0.75, 'strawberries':1.00}\n",
    "\n",
    "def buyLotsOfFruit(orderList):\n",
    "\n",
    "    totalCost = 0.0             \n",
    "\n",
    "\n",
    "    for i, k in orderList: #i,k is the key  and value of dectionary\n",
    "        if i not in fruitPrices:\n",
    "            print (\"Sorry we don't have %s\" %(i))\n",
    "            return None\n",
    "        else:\n",
    "            totalCost += k * fruitPrices[i]\n",
    "\n",
    "    return totalCost\n",
    "orderList = [ ('apples', 2.0), ('pears', 3.0), ('limes', 4.0) ]\n",
    "print ('Cost of', orderList, 'is', buyLotsOfFruit(orderList))\n"
   ]
  },
  {
   "cell_type": "code",
   "execution_count": 61,
   "metadata": {},
   "outputs": [],
   "source": [
    "def shopSmart(orders, Shops):\n",
    "    \n",
    "    fruitshop = Shops[0]\t\t# initialize the first shop in shopsmartpy    lowestCost = fruitshop.getPriceOfOrder(orderList)\n",
    "    \n",
    "    for shop in Shops[1:]:# shop[1:n] n^import \n",
    "        cost = shop.getPriceOfOrder(orderList)\n",
    "        if cost < lowestCost:\n",
    "            bestShop = shop\n",
    "            lowestCost = cost\n",
    "    \n",
    "    return fruitshop\n",
    "\n",
    "#THIS CODE COULD NOT INTIALIZED BEFORE INVOLVE ITS LIBRARIES\n",
    "orders1 = [('apples', 1.0), ('oranges', 3.0)]\n",
    "orders2 = [('apples', 3.0)]\n",
    "dir1 = {'apples': 2.0, 'oranges': 1.0}\n",
    "shop1 =  shop.FruitShop('shop1',dir1)\n",
    "dir2 = {'apples': 1.0, 'oranges': 5.0}\n",
    "shop2 = shop.FruitShop('shop2', dir2)\n",
    "shops = [shop1, shop2]"
   ]
  },
  {
   "cell_type": "code",
   "execution_count": null,
   "metadata": {},
   "outputs": [],
   "source": []
  }
 ],
 "metadata": {
  "kernelspec": {
   "display_name": "Python 3",
   "language": "python",
   "name": "python3"
  },
  "language_info": {
   "codemirror_mode": {
    "name": "ipython",
    "version": 3
   },
   "file_extension": ".py",
   "mimetype": "text/x-python",
   "name": "python",
   "nbconvert_exporter": "python",
   "pygments_lexer": "ipython3",
   "version": "3.7.6"
  }
 },
 "nbformat": 4,
 "nbformat_minor": 4
}
